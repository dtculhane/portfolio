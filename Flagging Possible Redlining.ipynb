{
 "cells": [
  {
   "cell_type": "markdown",
   "id": "8496b591-1f50-44ee-9d45-0fbc9a89c8ae",
   "metadata": {},
   "source": [
    "**Using Mortgage Compliance Data to Detect Redlining**\n",
    "<br>\n",
    "<br>\n",
    "***Project Purpose***\n",
    "<br>\n",
    "The purpose of this project is to determine if data can be used by a lending institution to identify if redlining is taking place. The code for this project will involve the transformation of the original dataset, model creation and training, and the interpretation of the model's results.\n",
    "<br>\n",
    "***About the Data***\n",
    "<br>\n",
    "The data being used for this project was supplied by a relative who works at a lending instution and is in charge of sending their HMDA (Housing Mortgage Disclosure Act) to the CFPB (Consumer Financial Protection Bureau) to comply with federal regulations. The data was scrubbed of personally identifying information before being sent to me for use.\n",
    "<br>\n",
    "The dataset contains 1,888 rows and 204 columns. Each row is a seperate application for a mortgage from the same lending institution. The applications were submitted in the 180 days leading up to June 3rd, 2024. Each column represents a field of data regarding race, ethnicity, financial information, loan information (including the decision made for the application), or location information for the property in question. Race and ethnic information are required to be reported by federal law in order to police redlining, which was made illegal with the Fair Housing Act of 1968.\n",
    "<br>\n",
    "In the dataset, 1,372 applications ended up having loans originated. 42 applications were approved by the lender but were not accepted by the applicants. 388 applications were withdrawn by the applicant before the lender made a decision. 85 applications were denied by the lender. 1 application was closed by the lender due to it being incomplete.\n",
    "<br>\n",
    "The nature of this dataset is lopsided with few applications actually being denied and the majority being approved and/or having loans originated. This will have to be taken into account during model creation by weighting the classes. Since the lender is being judged on whether or not redlining is taking place, the results of \"Loan Originated\" and \"Application approved but not accepted\" will be combined into the same result. The lender was willing to lend to those who chose not to accept the loan.\n",
    "<br>\n",
    "***Cleaning the Data***\n",
    "<br>\n",
    "The data in the spreadsheet has placeholder values in some fields where information was not supplied. Some fields contain numerical information that ended up being interpreted as strings. Fields for race and ethnic information have a lot of blank/NA values that need to be filled as well."
   ]
  },
  {
   "cell_type": "code",
   "execution_count": 2,
   "id": "5b355d44-f006-405b-a180-2a54f66c03e5",
   "metadata": {},
   "outputs": [],
   "source": [
    "# Initial import of libraries\n",
    "import pandas as pd\n",
    "import numpy as np"
   ]
  },
  {
   "cell_type": "code",
   "execution_count": 3,
   "id": "8532dee5-3ab6-461e-adcd-6834e0648419",
   "metadata": {},
   "outputs": [],
   "source": [
    "# Importing the data\n",
    "raw = pd.read_excel('sample data last 180 days.xlsx', header=0)"
   ]
  },
  {
   "cell_type": "code",
   "execution_count": 4,
   "id": "fa3916e9-81b1-4e25-a3fb-36c4096f9af3",
   "metadata": {},
   "outputs": [],
   "source": [
    "# Filtering the raw data for those where the application was either approved or denied\n",
    "acted = raw[(raw.ACTION != 'Application withdrawn') & (raw.ACTION != 'File Closed for incompleteness')].reset_index(drop=True)"
   ]
  },
  {
   "cell_type": "code",
   "execution_count": 5,
   "id": "ff208438-1f4f-43f7-a5ad-7271657951f5",
   "metadata": {},
   "outputs": [],
   "source": [
    "# Function to convert numerical values stored as strings while taking placeholder values into account, leaving those and blanks as NaN\n",
    "def strtoint(i):\n",
    "    try:\n",
    "        if i != '8888':  # Placeholder value for no credit score\n",
    "            num = int(i)\n",
    "        else:\n",
    "            num = np.NaN  # Replaces with NaN if present\n",
    "    except:  # Exception since a value could end up beeing blank\n",
    "        num = np.NaN\n",
    "    return num\n",
    "\n",
    "\n",
    "def floattoint(i):\n",
    "    try:\n",
    "        if i != '8888':  # Placeholder value for no credit score\n",
    "            num = float(i)\n",
    "        else:\n",
    "            num = np.NaN  # Replaces with NaN if present\n",
    "    except:  # Exception since a value could end up beeing blank\n",
    "        num = np.NaN\n",
    "    return num"
   ]
  },
  {
   "cell_type": "code",
   "execution_count": 6,
   "id": "50a1b8d8-5e3f-4773-b410-f10d15ac5e53",
   "metadata": {},
   "outputs": [
    {
     "name": "stderr",
     "output_type": "stream",
     "text": [
      "C:\\Users\\dman1\\AppData\\Local\\Temp\\ipykernel_30408\\1441454125.py:2: FutureWarning: Downcasting behavior in `replace` is deprecated and will be removed in a future version. To retain the old behavior, explicitly call `result.infer_objects(copy=False)`. To opt-in to the future behavior, set `pd.set_option('future.no_silent_downcasting', True)`\n",
      "  acted_filled = acted.replace({'8888' : np.nan, '9999' : np.nan, ' ' : np.nan})\n"
     ]
    }
   ],
   "source": [
    "# Filling empty spaces with NA values and replacing other placeholder values\n",
    "acted_filled = acted.replace({'8888' : np.nan, '9999' : np.nan, ' ' : np.nan})"
   ]
  },
  {
   "cell_type": "markdown",
   "id": "b3e12354-5d04-4c24-b194-660e218031ec",
   "metadata": {},
   "source": [
    "***Simplifying the Race and Ethnic Fields***\n",
    "<br>\n",
    "With values filled using numbers instead of letters or NA values, we need to identify the fields for race and ethnic information. There are 58 fields regarding race and 28 regarding ethnicity. These can be simplified in order to make our model's task easier. Helper functions can be defined to identify the columns with the corresponding race or ethnicity information. Once that information has been attained, we can simplify the combined 86 fields down to 6. The goal will to be to create a simpler dataframe to be used to join with economic and loan information to be used as the modeling dataset."
   ]
  },
  {
   "cell_type": "code",
   "execution_count": 8,
   "id": "a701d556-5847-45b8-adaf-680d5ef3899c",
   "metadata": {},
   "outputs": [],
   "source": [
    "# Helper functions to use to simplify race and ethnic information\n",
    "\n",
    "# Getting column names\n",
    "def get_cols(df, string):\n",
    "    col_list = []\n",
    "    for column in df.columns:\n",
    "        if string in column:\n",
    "            col_list.append(column)\n",
    "        else:\n",
    "            continue\n",
    "    return col_list\n",
    "\n",
    "\n",
    "# Function to aid in boolean indexing\n",
    "def bool_filter(df):\n",
    "    bool_list = []\n",
    "    i = 0\n",
    "    while i < len(df):\n",
    "        bool = df.iloc[i].sum() > 0\n",
    "        bool_list.append(bool)\n",
    "        i += 1\n",
    "    return bool_list"
   ]
  },
  {
   "cell_type": "code",
   "execution_count": 9,
   "id": "8a1c8c1f-1d5c-456c-bff3-369986a2890c",
   "metadata": {},
   "outputs": [
    {
     "name": "stderr",
     "output_type": "stream",
     "text": [
      "C:\\Users\\dman1\\AppData\\Local\\Temp\\ipykernel_30408\\438901637.py:17: FutureWarning: Downcasting behavior in `replace` is deprecated and will be removed in a future version. To retain the old behavior, explicitly call `result.infer_objects(copy=False)`. To opt-in to the future behavior, set `pd.set_option('future.no_silent_downcasting', True)`\n",
      "  acted_filled[column] = acted_filled[column].replace({'Y' : 1, 'N' : 0})\n"
     ]
    }
   ],
   "source": [
    "# Identifying columns with race, ethnic, or sex information\n",
    "eth_cols = []\n",
    "race_cols = []\n",
    "gend_cols = []\n",
    "for column in acted_filled.columns:\n",
    "    if 'ETH' in column:\n",
    "        eth_cols.append(column)\n",
    "    elif 'RACE' in column:\n",
    "        race_cols.append(column)\n",
    "    elif 'SEX' in column:\n",
    "        gend_cols.append(column)    \n",
    "    else:\n",
    "        continue\n",
    "\n",
    "# Filling the race and ethnic NAs\n",
    "for column in (eth_cols + race_cols + gend_cols):    \n",
    "    acted_filled[column] = acted_filled[column].replace({'Y' : 1, 'N' : 0})\n",
    "    acted_filled[column] = acted_filled[column].fillna(0)\n",
    "\n",
    "# Subsetting hmda_raw for the race and ethnic fields\n",
    "eth = acted_filled[eth_cols]\n",
    "race = acted_filled[race_cols]\n",
    "gend = acted_filled[gend_cols]"
   ]
  },
  {
   "cell_type": "code",
   "execution_count": 10,
   "id": "dee6a1f1-bea8-4155-9461-a2e85ddb20c5",
   "metadata": {},
   "outputs": [],
   "source": [
    "# Applying helper functions to ethnic data for Hispanic and Latino/a applicants\\\n",
    "# (All ethnic information dealt with Hispanic and Latino/a identification)\n",
    "\n",
    "# Getting the Hispanic/Latino response fields\n",
    "hisplat_cols = get_cols(eth, 'HMDA_1')\n",
    "\n",
    "# Creating a dataframe of just the Hispanic/Latino fields\n",
    "hisplat = eth[hisplat_cols]\n",
    "\n",
    "# Creating a field to allow ease of indexing for Hispanic/Latino applicants an co-applicants using a while loop\n",
    "hisplat_bool = bool_filter(hisplat)"
   ]
  },
  {
   "cell_type": "code",
   "execution_count": 11,
   "id": "8ee2d2fb-6338-4630-9bb9-011173d085ac",
   "metadata": {},
   "outputs": [],
   "source": [
    "# Applying helper functions to racial data to simplify data into racial groups\n",
    "\n",
    "# Getting column lists for each racial group\n",
    "nat_cols = get_cols(race, 'RACE-1')  # Natve America Columns\n",
    "as_cols = get_cols(race, 'RACE-2') + get_cols(race, 'HMDA_2') # Asian Columns Part 1\n",
    "b_cols = get_cols(race, 'RACE-3')  # Black Columns\n",
    "pac_cols = get_cols(race, 'RACE-4') + get_cols(race, 'HMDA_4') # Pacific Columns Part 1\n",
    "w_cols = get_cols(race, 'RACE-5')  # White Columns\n",
    "\n",
    "# Subsetting the race dataframe by race columns\n",
    "native = race[nat_cols]\n",
    "asian = race[as_cols]\n",
    "black = race[b_cols]\n",
    "pacific = race[pac_cols]\n",
    "white = race[w_cols]\n",
    "\n",
    "# Creating the boolean filter lists for each racial group\n",
    "native_bool = bool_filter(native)\n",
    "asian_bool = bool_filter(asian)\n",
    "black_bool = bool_filter(black)\n",
    "pacific_bool = bool_filter(pacific)\n",
    "white_bool = bool_filter(white)"
   ]
  },
  {
   "cell_type": "code",
   "execution_count": 12,
   "id": "fc640aa1-4c70-4b4b-a690-3d3aa077facb",
   "metadata": {},
   "outputs": [],
   "source": [
    "# Getting column lists for each racial group\n",
    "male_cols = get_cols(gend, 'HMDA_1')  # Male Columns\n",
    "female_cols = get_cols(gend, 'HMDA_2')  # Female Columns\n",
    "\n",
    "# Subsetting the race dataframe by race columns\n",
    "male = gend[male_cols]\n",
    "female = gend[female_cols]\n",
    "\n",
    "# Creating the boolean filter lists for each racial group\n",
    "male_bool = bool_filter(male)\n",
    "female_bool = bool_filter(female)"
   ]
  },
  {
   "cell_type": "code",
   "execution_count": 13,
   "id": "021443db-e3ed-4b8d-847c-05e5f7d719eb",
   "metadata": {},
   "outputs": [
    {
     "name": "stderr",
     "output_type": "stream",
     "text": [
      "C:\\Users\\dman1\\AppData\\Local\\Temp\\ipykernel_30408\\2165902182.py:13: FutureWarning: Downcasting behavior in `replace` is deprecated and will be removed in a future version. To retain the old behavior, explicitly call `result.infer_objects(copy=False)`. To opt-in to the future behavior, set `pd.set_option('future.no_silent_downcasting', True)`\n",
      "  dataL = dataL.replace({True : 1, False : 0})\n"
     ]
    }
   ],
   "source": [
    "# Creating new dataframe to hold features from extraction\n",
    "dataL = pd.DataFrame({\n",
    "                    'HISPLAT' : hisplat_bool,\n",
    "                    'NATIVE' : native_bool,\n",
    "                    'ASIAN' : asian_bool,\n",
    "                    'BLACK' : black_bool,\n",
    "                    'PACIFIC' : pacific_bool,\n",
    "                    'WHITE' : white_bool,\n",
    "                    'MALE' : male_bool,\n",
    "                    'FEMALE' : female_bool})\n",
    "\n",
    "# Creating the simplified dataframe containing race and ethnic information\n",
    "dataL = dataL.replace({True : 1, False : 0})"
   ]
  },
  {
   "cell_type": "markdown",
   "id": "9bfdf347-7029-472c-a397-41f5dcad5498",
   "metadata": {},
   "source": [
    "***Simplifying the Non-Race, Non-Ethnic, and Non-Sex Data***\n",
    "<br>\n",
    "The data to be simplified here pertains to economic and loan information. To work with only this data, the race and ethnic information need to be dropped. Afterwards, columns that make sense for inclusion can be singled out for inclusion."
   ]
  },
  {
   "cell_type": "code",
   "execution_count": 15,
   "id": "5104b886-2807-4417-aa1d-2cf1ecfaf4e2",
   "metadata": {},
   "outputs": [],
   "source": [
    "# Dropping the fields of race data held in eth_cols and race_cols\n",
    "non_eth = acted_filled.drop(columns=eth_cols)\n",
    "non_ethrac = non_eth.drop(columns=race_cols)  \n",
    "non_gendethrac = non_ethrac.drop(columns=gend_cols)  # Data without race, ethnic, or sex information"
   ]
  },
  {
   "cell_type": "markdown",
   "id": "0e954336-d600-4dd1-a398-b4100d9a72e6",
   "metadata": {},
   "source": [
    "Common economic indicators for mortgage applicants include income, credit score, combined loan to value ratio (CLTV), debt to income ratio (DTI). Pertinent information for the location of the property to be placed under the mortgage will include its location (we will use zip code) and its appraised value. Important loan information will include the type of loan and the total principle to be loaned. "
   ]
  },
  {
   "cell_type": "code",
   "execution_count": 17,
   "id": "a95d63e9-102a-4b08-bec8-e1bab37ffdaa",
   "metadata": {},
   "outputs": [
    {
     "name": "stderr",
     "output_type": "stream",
     "text": [
      "C:\\Users\\dman1\\AppData\\Local\\Temp\\ipykernel_30408\\3605478135.py:5: SettingWithCopyWarning: \n",
      "A value is trying to be set on a copy of a slice from a DataFrame.\n",
      "Try using .loc[row_indexer,col_indexer] = value instead\n",
      "\n",
      "See the caveats in the documentation: https://pandas.pydata.org/pandas-docs/stable/user_guide/indexing.html#returning-a-view-versus-a-copy\n",
      "  dataR.CLTV_HMDA = dataR.CLTV_HMDA.map(lambda x: floattoint(x))\n",
      "C:\\Users\\dman1\\AppData\\Local\\Temp\\ipykernel_30408\\3605478135.py:6: SettingWithCopyWarning: \n",
      "A value is trying to be set on a copy of a slice from a DataFrame.\n",
      "Try using .loc[row_indexer,col_indexer] = value instead\n",
      "\n",
      "See the caveats in the documentation: https://pandas.pydata.org/pandas-docs/stable/user_guide/indexing.html#returning-a-view-versus-a-copy\n",
      "  dataR.APCRSCORE = dataR.APCRSCORE.map(lambda x: strtoint(x))\n"
     ]
    }
   ],
   "source": [
    "# Beginning the economic and loan dataframe\n",
    "dataR = acted_filled[['LNTYPE_HMDA', 'LNAMOUNTFL', 'PROPZIP_HMDA', 'CLTV_HMDA', 'APPRVALUE_HMDA', 'DEBT_RATIO', \n",
    "                            'TINCOME_HMDA', 'APCRSCORE']]\n",
    "# Converting string columns of numeric information to integers\n",
    "dataR.CLTV_HMDA = dataR.CLTV_HMDA.map(lambda x: floattoint(x))\n",
    "dataR.APCRSCORE = dataR.APCRSCORE.map(lambda x: strtoint(x))"
   ]
  },
  {
   "cell_type": "code",
   "execution_count": 18,
   "id": "b5d161ce-8d8e-4c57-8384-113c97475731",
   "metadata": {},
   "outputs": [
    {
     "name": "stderr",
     "output_type": "stream",
     "text": [
      "C:\\Users\\dman1\\AppData\\Local\\Temp\\ipykernel_30408\\357208571.py:6: FutureWarning: Downcasting behavior in `replace` is deprecated and will be removed in a future version. To retain the old behavior, explicitly call `result.infer_objects(copy=False)`. To opt-in to the future behavior, set `pd.set_option('future.no_silent_downcasting', True)`\n",
      "  data.ACTION = data.ACTION.replace({'Application denied' : 0,\n"
     ]
    }
   ],
   "source": [
    "# Creating the dataframe to use for modeling\n",
    "data = dataL.merge(dataR, how='outer', on=dataL.index)\n",
    "data = data.drop(columns=['key_0'])\n",
    "data = data.merge(acted_filled.ACTION, on=data.index)\n",
    "data = data.drop(columns=['key_0'])\n",
    "data.ACTION = data.ACTION.replace({'Application denied' : 0,\n",
    "                                   'Loan Originated' : 1,\n",
    "                                   'Application approved but not accepted' : 1})"
   ]
  },
  {
   "cell_type": "markdown",
   "id": "b08061ca-783d-4aea-99ca-fd1b9d653196",
   "metadata": {},
   "source": [
    "***Preparing the Modeling Dataset for Modeling***\n",
    "<br>\n",
    "With the modeling dataset now merged, we will want to make sure it is ready for modeling. This will include dummying categorical variables and standardization of the data. Standardizing the data will be done using a Min/Max scaler from scikit-learn. This will preserve the Boolean values in the data while scaling the numeric values in terms of percentages within the field."
   ]
  },
  {
   "cell_type": "code",
   "execution_count": 20,
   "id": "26d3a09f-7010-4328-bb24-347f3aefdfc2",
   "metadata": {},
   "outputs": [],
   "source": [
    "# Dummying the modleing data\n",
    "data_dumm = pd.get_dummies(data, dtype=int)"
   ]
  },
  {
   "cell_type": "markdown",
   "id": "036f242c-a8bf-4123-bd73-b373c890a1f2",
   "metadata": {},
   "source": [
    "After scaling and imputing the data, the resulting dataset for modeling has 85 applications that were denied and 1414 applications that were approved by the lending institution. \n",
    "<br>\n",
    "***Modeling the Data***\n",
    "<br>\n",
    "With the data now dummied and scaled, we can begin the modeling process. For the data, we will want to spit it into feature and target sets. These will then be used to split into training and testing sets for the models to use.\n",
    "<br>\n",
    "Since this is a classification task, we will want to use models like logistic regression or random forest classification. To find the best model, we can grid search using both models and windows of parameters. This will require a pipeline and a search space that specifies the particular classiefier, penalty parameters, and parameters specific to the model. Once that has been established, we will want to make sure that the classes are balanced by the model since there is a massive difference between the number of approved and denied applications."
   ]
  },
  {
   "cell_type": "code",
   "execution_count": 22,
   "id": "2cf70733-a789-498e-aa0b-78f896824262",
   "metadata": {},
   "outputs": [],
   "source": [
    "# Importing for modeling\n",
    "from sklearn.model_selection import train_test_split\n",
    "from sklearn.pipeline import Pipeline\n",
    "from sklearn.model_selection import GridSearchCV\n",
    "from sklearn.linear_model import LogisticRegression\n",
    "from sklearn.ensemble import RandomForestClassifier\n",
    "from sklearn.preprocessing import MinMaxScaler\n",
    "from sklearn.impute import SimpleImputer"
   ]
  },
  {
   "cell_type": "code",
   "execution_count": 23,
   "id": "bb7b09a6-2141-4e92-afcf-e44bc9325c53",
   "metadata": {},
   "outputs": [],
   "source": [
    "# Creating the features and target sets\n",
    "modeling_features = data_dumm.drop(columns=['ACTION'])\n",
    "modeling_target = data_dumm.ACTION"
   ]
  },
  {
   "cell_type": "code",
   "execution_count": 24,
   "id": "fcafd4d0-0c0e-4e29-9f40-e8e851529051",
   "metadata": {},
   "outputs": [],
   "source": [
    "# Creating the training and testing sets\n",
    "feat_train, feat_test, targ_train, targ_test = train_test_split(modeling_features, modeling_target,\n",
    "                                                               test_size=0.2, random_state=40509)"
   ]
  },
  {
   "cell_type": "code",
   "execution_count": 25,
   "id": "d1115a3b-e18f-4b9b-ad18-656ed8011ed9",
   "metadata": {},
   "outputs": [],
   "source": [
    "# Creating the Pipeline for the Grid Search\n",
    "pipeline = Pipeline([('scaler', MinMaxScaler()),\n",
    "                     ('imputer', SimpleImputer(strategy='median')),\n",
    "                     ('classifier' , LogisticRegression())])"
   ]
  },
  {
   "cell_type": "code",
   "execution_count": 26,
   "id": "57bdd87e-7a4e-45b9-aaa5-8f563cf62d37",
   "metadata": {},
   "outputs": [],
   "source": [
    "# Creating the search space to use for the Grid Search\n",
    "search_space = [{'classifier' : [LogisticRegression(class_weight='balanced', max_iter=500, solver='liblinear')],\n",
    "                'classifier__penalty' : ['l1', 'l2'],\n",
    "                'classifier__C' : np.logspace(0, 4, 15)},\n",
    "                {'classifier' : [RandomForestClassifier(n_jobs=-1, class_weight='balanced')],\n",
    "                'classifier__n_estimators' : [10, 100, 1000],\n",
    "                'classifier__max_features' : [1, 2, 3],\n",
    "                'classifier__min_samples_leaf' : [10, 15, 20]}]"
   ]
  },
  {
   "cell_type": "code",
   "execution_count": 27,
   "id": "cbee6bf6-b334-4e29-8ee9-df68e33525e3",
   "metadata": {},
   "outputs": [
    {
     "name": "stdout",
     "output_type": "stream",
     "text": [
      "Pipeline(steps=[('scaler', MinMaxScaler()),\n",
      "                ('imputer', SimpleImputer(strategy='median')),\n",
      "                ('classifier',\n",
      "                 LogisticRegression(C=7.196856730011519,\n",
      "                                    class_weight='balanced', max_iter=500,\n",
      "                                    penalty='l1', solver='liblinear'))])\n"
     ]
    }
   ],
   "source": [
    "# Creating th GridSearchCV object\n",
    "gridsearch = GridSearchCV(pipeline, search_space, cv=5, verbose=0)\n",
    "\n",
    "# Fitting the gridsearch model\n",
    "model_search = gridsearch.fit(feat_train, targ_train)\n",
    "\n",
    "# Finding and printing the best model's parameters\n",
    "print(model_search.best_estimator_)\n",
    "model = model_search.best_estimator_"
   ]
  },
  {
   "cell_type": "markdown",
   "id": "e5a018e3-ba4e-40b8-beee-a3bb52d03d0f",
   "metadata": {},
   "source": [
    "***Evaluating the Selected Model***\n",
    "<br>\n",
    "Now with the model selected, we can make predictions and evaluate them using classification metrics like accuracy, precision, recall, the F1 score, ROC curve, and the area under the ROC curve (AUC)."
   ]
  },
  {
   "cell_type": "code",
   "execution_count": 29,
   "id": "7a8e57d7-82a0-45b1-8ca1-4b3360fb7b39",
   "metadata": {},
   "outputs": [
    {
     "name": "stdout",
     "output_type": "stream",
     "text": [
      "The model's accuracy is 0.98\n",
      "The model's precision is 0.9929078014184397\n",
      "The model's recall is 0.9859154929577465\n",
      "The model's f1 score is 0.9893992932862191\n"
     ]
    }
   ],
   "source": [
    "from sklearn.metrics import accuracy_score, f1_score, precision_score, recall_score\n",
    "\n",
    "# Making model predicitons\n",
    "preds = model.predict(feat_test)\n",
    "\n",
    "# Getting model accuracy score\n",
    "accuracy = accuracy_score(targ_test, preds)\n",
    "print(\"The model's accuracy is\", accuracy)\n",
    "\n",
    "# Getting model precision score\n",
    "precision = precision_score(targ_test, preds)\n",
    "print(\"The model's precision is\", precision)\n",
    "\n",
    "# Getting model recall score\n",
    "recall = recall_score(targ_test, preds)\n",
    "print(\"The model's recall is\", recall)\n",
    "\n",
    "# Getting model F1-Score\n",
    "f1 = f1_score(targ_test, preds)\n",
    "print(\"The model's f1 score is\", f1)"
   ]
  },
  {
   "cell_type": "code",
   "execution_count": 30,
   "id": "3eb6a18c-e7bd-410f-889a-cc0aeb1af2cd",
   "metadata": {},
   "outputs": [
    {
     "data": {
      "image/png": "[encoded data removed]",
      "text/plain": [
       "<Figure size 640x480 with 1 Axes>"
      ]
     },
     "metadata": {},
     "output_type": "display_data"
    },
    {
     "name": "stdout",
     "output_type": "stream",
     "text": [
      "AUC score =  0.974031690140845\n"
     ]
    }
   ],
   "source": [
    "from sklearn.metrics import roc_curve, roc_auc_score\n",
    "import matplotlib.pyplot as plt\n",
    "\n",
    "# Making the ROC Curve\n",
    "target_probabilities = model.predict_proba(feat_test)[:,1]\n",
    "fp_rate, tp_rate, threshold = roc_curve(\n",
    "    targ_test, target_probabilities)\n",
    "\n",
    "# Plotting the ROC Curve\n",
    "plt.title('Model ROC Curve')\n",
    "plt.plot(fp_rate, tp_rate)\n",
    "plt.plot([0,1], ls='--')\n",
    "plt.plot([0,0], [1,0], c='.7'), plt.plot([1,1], c='.7')\n",
    "plt.xlabel('False Positive Rate')\n",
    "plt.ylabel('True Postive Rate')\n",
    "plt.show()\n",
    "print('AUC score = ', roc_auc_score(targ_test, target_probabilities))"
   ]
  },
  {
   "cell_type": "markdown",
   "id": "a65950ce-2fd3-4ff5-8d85-9a1b7aa0fdec",
   "metadata": {},
   "source": [
    "A confusion matrix can also breakdown how the model performed."
   ]
  },
  {
   "cell_type": "code",
   "execution_count": 32,
   "id": "e80c4b7b-2cc2-4a40-afc4-876222da819e",
   "metadata": {},
   "outputs": [
    {
     "data": {
      "image/png": "[encoded data removed]",
      "text/plain": [
       "<Figure size 640x480 with 1 Axes>"
      ]
     },
     "metadata": {},
     "output_type": "display_data"
    }
   ],
   "source": [
    "from sklearn.metrics import confusion_matrix\n",
    "import seaborn as sns\n",
    "\n",
    "# Making the confusion matrix\n",
    "conf_matrix = confusion_matrix(targ_test, preds)\n",
    "class_names = ['Denied', 'Approved']\n",
    "conf_df = pd.DataFrame(conf_matrix, index=class_names, columns=class_names)\n",
    "\n",
    "# Visualizing the confusion matrix as a heatmap\n",
    "sns.heatmap(conf_df, annot=True, cbar=None, cmap='Blues', fmt='.1f')\n",
    "plt.title('Mortgage Application Logistic Regression Confusion Matrix'), plt.tight_layout()\n",
    "plt.ylabel('True Class'), plt.xlabel('Predicted Class')\n",
    "plt.show()"
   ]
  },
  {
   "cell_type": "markdown",
   "id": "88ac8427-7698-45e5-b2f2-559550543fe5",
   "metadata": {},
   "source": [
    "We can see from the confusion matrix that the model only denied 4 applications from the test set that were actually approved and only approved 2 applications that were actually denied.\n",
    "<br>\n",
    "Next we can check out summary statistics for various financial metrics to compare denied applications with the approved applications"
   ]
  },
  {
   "cell_type": "code",
   "execution_count": 34,
   "id": "c91c2722-6ca3-4f01-9218-401591436439",
   "metadata": {},
   "outputs": [
    {
     "data": {
      "text/html": [
       "<div>\n",
       "<style scoped>\n",
       "    .dataframe tbody tr th:only-of-type {\n",
       "        vertical-align: middle;\n",
       "    }\n",
       "\n",
       "    .dataframe tbody tr th {\n",
       "        vertical-align: top;\n",
       "    }\n",
       "\n",
       "    .dataframe thead th {\n",
       "        text-align: right;\n",
       "    }\n",
       "</style>\n",
       "<table border=\"1\" class=\"dataframe\">\n",
       "  <thead>\n",
       "    <tr style=\"text-align: right;\">\n",
       "      <th></th>\n",
       "      <th>APCRSCORE</th>\n",
       "      <th>LNAMOUNTFL</th>\n",
       "      <th>TINCOME_HMDA</th>\n",
       "    </tr>\n",
       "  </thead>\n",
       "  <tbody>\n",
       "    <tr>\n",
       "      <th>count</th>\n",
       "      <td>18.000000</td>\n",
       "      <td>18.000000</td>\n",
       "      <td>18.000000</td>\n",
       "    </tr>\n",
       "    <tr>\n",
       "      <th>mean</th>\n",
       "      <td>572.333333</td>\n",
       "      <td>287166.722222</td>\n",
       "      <td>91.305333</td>\n",
       "    </tr>\n",
       "    <tr>\n",
       "      <th>std</th>\n",
       "      <td>72.624741</td>\n",
       "      <td>87941.694524</td>\n",
       "      <td>48.322281</td>\n",
       "    </tr>\n",
       "    <tr>\n",
       "      <th>min</th>\n",
       "      <td>475.000000</td>\n",
       "      <td>32000.000000</td>\n",
       "      <td>24.000000</td>\n",
       "    </tr>\n",
       "    <tr>\n",
       "      <th>25%</th>\n",
       "      <td>516.750000</td>\n",
       "      <td>252485.000000</td>\n",
       "      <td>68.500000</td>\n",
       "    </tr>\n",
       "    <tr>\n",
       "      <th>50%</th>\n",
       "      <td>567.500000</td>\n",
       "      <td>292975.000000</td>\n",
       "      <td>79.000000</td>\n",
       "    </tr>\n",
       "    <tr>\n",
       "      <th>75%</th>\n",
       "      <td>594.500000</td>\n",
       "      <td>338750.000000</td>\n",
       "      <td>107.000000</td>\n",
       "    </tr>\n",
       "    <tr>\n",
       "      <th>max</th>\n",
       "      <td>772.000000</td>\n",
       "      <td>395000.000000</td>\n",
       "      <td>209.000000</td>\n",
       "    </tr>\n",
       "  </tbody>\n",
       "</table>\n",
       "</div>"
      ],
      "text/plain": [
       "        APCRSCORE     LNAMOUNTFL  TINCOME_HMDA\n",
       "count   18.000000      18.000000     18.000000\n",
       "mean   572.333333  287166.722222     91.305333\n",
       "std     72.624741   87941.694524     48.322281\n",
       "min    475.000000   32000.000000     24.000000\n",
       "25%    516.750000  252485.000000     68.500000\n",
       "50%    567.500000  292975.000000     79.000000\n",
       "75%    594.500000  338750.000000    107.000000\n",
       "max    772.000000  395000.000000    209.000000"
      ]
     },
     "execution_count": 34,
     "metadata": {},
     "output_type": "execute_result"
    }
   ],
   "source": [
    "# Indexding the testing features for those predicted to be denied and originated\n",
    "pred_denials = feat_test[preds == 0]\n",
    "pred_approvals = feat_test[preds == 1]\n",
    "\n",
    "# Finding summary statistics for income, credit score, and loan amount\n",
    "pred_denials.agg({'APCRSCORE' : 'describe',\n",
    "                  'LNAMOUNTFL' : 'describe',\n",
    "                  'TINCOME_HMDA': 'describe'})"
   ]
  },
  {
   "cell_type": "code",
   "execution_count": 35,
   "id": "b295f179-a53f-4f8a-b6ce-7baae0afb37d",
   "metadata": {},
   "outputs": [
    {
     "data": {
      "text/html": [
       "<div>\n",
       "<style scoped>\n",
       "    .dataframe tbody tr th:only-of-type {\n",
       "        vertical-align: middle;\n",
       "    }\n",
       "\n",
       "    .dataframe tbody tr th {\n",
       "        vertical-align: top;\n",
       "    }\n",
       "\n",
       "    .dataframe thead th {\n",
       "        text-align: right;\n",
       "    }\n",
       "</style>\n",
       "<table border=\"1\" class=\"dataframe\">\n",
       "  <thead>\n",
       "    <tr style=\"text-align: right;\">\n",
       "      <th></th>\n",
       "      <th>APCRSCORE</th>\n",
       "      <th>LNAMOUNTFL</th>\n",
       "      <th>TINCOME_HMDA</th>\n",
       "    </tr>\n",
       "  </thead>\n",
       "  <tbody>\n",
       "    <tr>\n",
       "      <th>count</th>\n",
       "      <td>282.000000</td>\n",
       "      <td>2.820000e+02</td>\n",
       "      <td>281.000000</td>\n",
       "    </tr>\n",
       "    <tr>\n",
       "      <th>mean</th>\n",
       "      <td>746.315603</td>\n",
       "      <td>3.731981e+05</td>\n",
       "      <td>153.928826</td>\n",
       "    </tr>\n",
       "    <tr>\n",
       "      <th>std</th>\n",
       "      <td>47.313481</td>\n",
       "      <td>2.103765e+05</td>\n",
       "      <td>136.776781</td>\n",
       "    </tr>\n",
       "    <tr>\n",
       "      <th>min</th>\n",
       "      <td>620.000000</td>\n",
       "      <td>7.500100e+04</td>\n",
       "      <td>22.000000</td>\n",
       "    </tr>\n",
       "    <tr>\n",
       "      <th>25%</th>\n",
       "      <td>711.000000</td>\n",
       "      <td>2.360495e+05</td>\n",
       "      <td>85.000000</td>\n",
       "    </tr>\n",
       "    <tr>\n",
       "      <th>50%</th>\n",
       "      <td>758.500000</td>\n",
       "      <td>3.292000e+05</td>\n",
       "      <td>120.000000</td>\n",
       "    </tr>\n",
       "    <tr>\n",
       "      <th>75%</th>\n",
       "      <td>785.000000</td>\n",
       "      <td>4.499000e+05</td>\n",
       "      <td>174.000000</td>\n",
       "    </tr>\n",
       "    <tr>\n",
       "      <th>max</th>\n",
       "      <td>820.000000</td>\n",
       "      <td>1.620000e+06</td>\n",
       "      <td>1429.000000</td>\n",
       "    </tr>\n",
       "  </tbody>\n",
       "</table>\n",
       "</div>"
      ],
      "text/plain": [
       "        APCRSCORE    LNAMOUNTFL  TINCOME_HMDA\n",
       "count  282.000000  2.820000e+02    281.000000\n",
       "mean   746.315603  3.731981e+05    153.928826\n",
       "std     47.313481  2.103765e+05    136.776781\n",
       "min    620.000000  7.500100e+04     22.000000\n",
       "25%    711.000000  2.360495e+05     85.000000\n",
       "50%    758.500000  3.292000e+05    120.000000\n",
       "75%    785.000000  4.499000e+05    174.000000\n",
       "max    820.000000  1.620000e+06   1429.000000"
      ]
     },
     "execution_count": 35,
     "metadata": {},
     "output_type": "execute_result"
    }
   ],
   "source": [
    "pred_approvals.agg({'APCRSCORE' : 'describe',\n",
    "                       'LNAMOUNTFL' : 'describe',\n",
    "                       'TINCOME_HMDA': 'describe'})"
   ]
  },
  {
   "cell_type": "markdown",
   "id": "a2e5c647-05a3-4510-9a05-42f942c1315a",
   "metadata": {},
   "source": [
    "The summary statistic data above from approved and denied application suggests that the model performs well - applications with lower credit scores and lower incomes tend to be declined while those with higher credit scores and incomes tend to be approved.\n",
    "<br>\n",
    "To be thorough, we can use the median (50%) statistics from the approved predictions to filter through the all of the denied applications in the dataset to see examples of denied applications that would have originally been approved. We can then look through that data to find what could have been the basis for denial."
   ]
  },
  {
   "cell_type": "code",
   "execution_count": 37,
   "id": "6774e8c6-da78-4421-bb03-2153f97e9fc8",
   "metadata": {},
   "outputs": [],
   "source": [
    "# Filtering for denied applications\n",
    "denials = data[data.ACTION == 0]\n",
    "\n",
    "# Creating filtering criteria for financial metrics\n",
    "criteria = (denials['APCRSCORE'] >= 758.5) & (denials['TINCOME_HMDA'] >= 120)\n",
    "\n",
    "# Filtering using the criteria\n",
    "suspects = denials[criteria]"
   ]
  },
  {
   "cell_type": "code",
   "execution_count": 38,
   "id": "9bcf6e29-5f9e-4306-b2f8-6d55ba9d73c7",
   "metadata": {},
   "outputs": [
    {
     "data": {
      "text/html": [
       "<div>\n",
       "<style scoped>\n",
       "    .dataframe tbody tr th:only-of-type {\n",
       "        vertical-align: middle;\n",
       "    }\n",
       "\n",
       "    .dataframe tbody tr th {\n",
       "        vertical-align: top;\n",
       "    }\n",
       "\n",
       "    .dataframe thead th {\n",
       "        text-align: right;\n",
       "    }\n",
       "</style>\n",
       "<table border=\"1\" class=\"dataframe\">\n",
       "  <thead>\n",
       "    <tr style=\"text-align: right;\">\n",
       "      <th></th>\n",
       "      <th>HISPLAT</th>\n",
       "      <th>NATIVE</th>\n",
       "      <th>ASIAN</th>\n",
       "      <th>BLACK</th>\n",
       "      <th>PACIFIC</th>\n",
       "      <th>WHITE</th>\n",
       "      <th>MALE</th>\n",
       "      <th>FEMALE</th>\n",
       "      <th>LNTYPE_HMDA</th>\n",
       "      <th>LNAMOUNTFL</th>\n",
       "      <th>PROPZIP_HMDA</th>\n",
       "      <th>CLTV_HMDA</th>\n",
       "      <th>APPRVALUE_HMDA</th>\n",
       "      <th>DEBT_RATIO</th>\n",
       "      <th>TINCOME_HMDA</th>\n",
       "      <th>APCRSCORE</th>\n",
       "      <th>ACTION</th>\n",
       "    </tr>\n",
       "  </thead>\n",
       "  <tbody>\n",
       "    <tr>\n",
       "      <th>1485</th>\n",
       "      <td>0</td>\n",
       "      <td>1</td>\n",
       "      <td>0</td>\n",
       "      <td>0</td>\n",
       "      <td>0</td>\n",
       "      <td>1</td>\n",
       "      <td>0</td>\n",
       "      <td>1</td>\n",
       "      <td>Conventional</td>\n",
       "      <td>212000.0</td>\n",
       "      <td>29577</td>\n",
       "      <td>73.868</td>\n",
       "      <td>287000.0</td>\n",
       "      <td>27.57</td>\n",
       "      <td>188.0</td>\n",
       "      <td>771.0</td>\n",
       "      <td>0</td>\n",
       "    </tr>\n",
       "  </tbody>\n",
       "</table>\n",
       "</div>"
      ],
      "text/plain": [
       "      HISPLAT  NATIVE  ASIAN  BLACK  PACIFIC  WHITE  MALE  FEMALE  \\\n",
       "1485        0       1      0      0        0      1     0       1   \n",
       "\n",
       "       LNTYPE_HMDA  LNAMOUNTFL PROPZIP_HMDA  CLTV_HMDA  APPRVALUE_HMDA  \\\n",
       "1485  Conventional    212000.0        29577     73.868        287000.0   \n",
       "\n",
       "      DEBT_RATIO  TINCOME_HMDA  APCRSCORE  ACTION  \n",
       "1485       27.57         188.0      771.0       0  "
      ]
     },
     "execution_count": 38,
     "metadata": {},
     "output_type": "execute_result"
    }
   ],
   "source": [
    "suspects"
   ]
  },
  {
   "cell_type": "markdown",
   "id": "ef8ad7f1-f719-49ab-aec5-69a3e2db3ae9",
   "metadata": {},
   "source": [
    "Using this filtering criteria, we find that there is only one denied application. We can use the information here to find the reason the application was denied through filtering the original dataset. The reason for denial is included in that data but was not used for modeling for obvious reasons."
   ]
  },
  {
   "cell_type": "code",
   "execution_count": 40,
   "id": "f90754e0-e8ca-4829-ad44-ea0f650be3af",
   "metadata": {},
   "outputs": [
    {
     "data": {
      "text/plain": [
       "1872    Collateral\n",
       "Name: DENIALR1, dtype: object"
      ]
     },
     "execution_count": 40,
     "metadata": {},
     "output_type": "execute_result"
    }
   ],
   "source": [
    "raw[(raw['LNTYPE_HMDA'] == 'Conventional') &\n",
    "(raw['ACTION'] == 'Application denied') &\n",
    "(raw['PROPZIP_HMDA'] == '29577')].DENIALR1"
   ]
  },
  {
   "cell_type": "markdown",
   "id": "f1406072-9916-47cc-a7b9-bd9194cd4edf",
   "metadata": {},
   "source": [
    "We can see that the reason for this application's denial was for its collateral. The applicant did identify as Native American as well as White. In a system incorporating this process to flag denied applications for investigation by the lending institution to make sure redlining is not taking place, this application would likely be invesitgated."
   ]
  },
  {
   "cell_type": "code",
   "execution_count": 80,
   "id": "5a158ad9-586a-4e75-b387-23e2fb05b270",
   "metadata": {},
   "outputs": [],
   "source": [
    "data.to_excel('modeling data.xlsx', index=False, sheet_name='Data')"
   ]
  },
  {
   "cell_type": "code",
   "execution_count": 82,
   "id": "feb4fcb9-829e-4ed8-825f-0a32067135b2",
   "metadata": {},
   "outputs": [],
   "source": [
    "conf_df.to_excel('confusion matrix.xlsx', index=False, sheet_name='Confusion Matrix')"
   ]
  },
  {
   "cell_type": "code",
   "execution_count": null,
   "id": "f897aa5d-9884-437c-b2f1-64e32706236e",
   "metadata": {},
   "outputs": [],
   "source": []
  }
 ],
 "metadata": {
  "kernelspec": {
   "display_name": "Python 3 (ipykernel)",
   "language": "python",
   "name": "python3"
  },
  "language_info": {
   "codemirror_mode": {
    "name": "ipython",
    "version": 3
   },
   "file_extension": ".py",
   "mimetype": "text/x-python",
   "name": "python",
   "nbconvert_exporter": "python",
   "pygments_lexer": "ipython3",
   "version": "3.11.7"
  }
 },
 "nbformat": 4,
 "nbformat_minor": 5
}
